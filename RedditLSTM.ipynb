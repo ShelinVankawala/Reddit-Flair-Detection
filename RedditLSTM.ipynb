{
  "nbformat": 4,
  "nbformat_minor": 0,
  "metadata": {
    "colab": {
      "provenance": [],
      "mount_file_id": "1ga_S7QqN45l3MEE0_itN18flHxv4ifBs",
      "authorship_tag": "ABX9TyNNLG7ezG/U4TzeXPqUG61j",
      "include_colab_link": true
    },
    "kernelspec": {
      "name": "python3",
      "display_name": "Python 3"
    },
    "language_info": {
      "name": "python"
    }
  },
  "cells": [
    {
      "cell_type": "markdown",
      "metadata": {
        "id": "view-in-github",
        "colab_type": "text"
      },
      "source": [
        "<a href=\"https://colab.research.google.com/github/ShelinVankawala/Reddit-Flair-Detection/blob/main/RedditLSTM.ipynb\" target=\"_parent\"><img src=\"https://colab.research.google.com/assets/colab-badge.svg\" alt=\"Open In Colab\"/></a>"
      ]
    },
    {
      "cell_type": "code",
      "execution_count": null,
      "metadata": {
        "colab": {
          "base_uri": "https://localhost:8080/"
        },
        "id": "ycsyalMYvlti",
        "outputId": "e3cf3f9d-d0bb-4b1b-e2ad-f8c153d12abb"
      },
      "outputs": [
        {
          "output_type": "stream",
          "name": "stdout",
          "text": [
            "Collecting tldextract\n",
            "  Downloading tldextract-3.4.4-py3-none-any.whl (93 kB)\n",
            "\u001b[?25l     \u001b[90m━━━━━━━━━━━━━━━━━━━━━━━━━━━━━━━━━━━━━━━━\u001b[0m \u001b[32m0.0/93.3 kB\u001b[0m \u001b[31m?\u001b[0m eta \u001b[36m-:--:--\u001b[0m\r\u001b[2K     \u001b[91m━━━━━━━━━━━━━━━━━━━━━━━━━━━━━━━━━━━━━━━\u001b[0m\u001b[90m╺\u001b[0m \u001b[32m92.2/93.3 kB\u001b[0m \u001b[31m2.6 MB/s\u001b[0m eta \u001b[36m0:00:01\u001b[0m\r\u001b[2K     \u001b[90m━━━━━━━━━━━━━━━━━━━━━━━━━━━━━━━━━━━━━━━━\u001b[0m \u001b[32m93.3/93.3 kB\u001b[0m \u001b[31m1.9 MB/s\u001b[0m eta \u001b[36m0:00:00\u001b[0m\n",
            "\u001b[?25hRequirement already satisfied: idna in /usr/local/lib/python3.10/dist-packages (from tldextract) (3.4)\n",
            "Requirement already satisfied: requests>=2.1.0 in /usr/local/lib/python3.10/dist-packages (from tldextract) (2.27.1)\n",
            "Collecting requests-file>=1.4 (from tldextract)\n",
            "  Downloading requests_file-1.5.1-py2.py3-none-any.whl (3.7 kB)\n",
            "Requirement already satisfied: filelock>=3.0.8 in /usr/local/lib/python3.10/dist-packages (from tldextract) (3.12.2)\n",
            "Requirement already satisfied: urllib3<1.27,>=1.21.1 in /usr/local/lib/python3.10/dist-packages (from requests>=2.1.0->tldextract) (1.26.16)\n",
            "Requirement already satisfied: certifi>=2017.4.17 in /usr/local/lib/python3.10/dist-packages (from requests>=2.1.0->tldextract) (2023.7.22)\n",
            "Requirement already satisfied: charset-normalizer~=2.0.0 in /usr/local/lib/python3.10/dist-packages (from requests>=2.1.0->tldextract) (2.0.12)\n",
            "Requirement already satisfied: six in /usr/local/lib/python3.10/dist-packages (from requests-file>=1.4->tldextract) (1.16.0)\n",
            "Installing collected packages: requests-file, tldextract\n",
            "Successfully installed requests-file-1.5.1 tldextract-3.4.4\n"
          ]
        }
      ],
      "source": [
        "pip install tldextract"
      ]
    },
    {
      "cell_type": "code",
      "source": [
        "pip install praw"
      ],
      "metadata": {
        "colab": {
          "base_uri": "https://localhost:8080/"
        },
        "id": "MmJQFzmov305",
        "outputId": "515395d3-f702-42d8-b61d-46729bd46442"
      },
      "execution_count": null,
      "outputs": [
        {
          "output_type": "stream",
          "name": "stdout",
          "text": [
            "Collecting praw\n",
            "  Downloading praw-7.7.1-py3-none-any.whl (191 kB)\n",
            "\u001b[?25l     \u001b[90m━━━━━━━━━━━━━━━━━━━━━━━━━━━━━━━━━━━━━━━━\u001b[0m \u001b[32m0.0/191.0 kB\u001b[0m \u001b[31m?\u001b[0m eta \u001b[36m-:--:--\u001b[0m\r\u001b[2K     \u001b[91m━━━━━━━━━━━━━━━━━━━\u001b[0m\u001b[90m╺\u001b[0m\u001b[90m━━━━━━━━━━━━━━━━━━━━\u001b[0m \u001b[32m92.2/191.0 kB\u001b[0m \u001b[31m2.5 MB/s\u001b[0m eta \u001b[36m0:00:01\u001b[0m\r\u001b[2K     \u001b[90m━━━━━━━━━━━━━━━━━━━━━━━━━━━━━━━━━━━━━━━\u001b[0m \u001b[32m191.0/191.0 kB\u001b[0m \u001b[31m3.5 MB/s\u001b[0m eta \u001b[36m0:00:00\u001b[0m\n",
            "\u001b[?25hCollecting prawcore<3,>=2.1 (from praw)\n",
            "  Downloading prawcore-2.3.0-py3-none-any.whl (16 kB)\n",
            "Collecting update-checker>=0.18 (from praw)\n",
            "  Downloading update_checker-0.18.0-py3-none-any.whl (7.0 kB)\n",
            "Requirement already satisfied: websocket-client>=0.54.0 in /usr/local/lib/python3.10/dist-packages (from praw) (1.6.1)\n",
            "Requirement already satisfied: requests<3.0,>=2.6.0 in /usr/local/lib/python3.10/dist-packages (from prawcore<3,>=2.1->praw) (2.27.1)\n",
            "Requirement already satisfied: urllib3<1.27,>=1.21.1 in /usr/local/lib/python3.10/dist-packages (from requests<3.0,>=2.6.0->prawcore<3,>=2.1->praw) (1.26.16)\n",
            "Requirement already satisfied: certifi>=2017.4.17 in /usr/local/lib/python3.10/dist-packages (from requests<3.0,>=2.6.0->prawcore<3,>=2.1->praw) (2023.7.22)\n",
            "Requirement already satisfied: charset-normalizer~=2.0.0 in /usr/local/lib/python3.10/dist-packages (from requests<3.0,>=2.6.0->prawcore<3,>=2.1->praw) (2.0.12)\n",
            "Requirement already satisfied: idna<4,>=2.5 in /usr/local/lib/python3.10/dist-packages (from requests<3.0,>=2.6.0->prawcore<3,>=2.1->praw) (3.4)\n",
            "Installing collected packages: update-checker, prawcore, praw\n",
            "Successfully installed praw-7.7.1 prawcore-2.3.0 update-checker-0.18.0\n"
          ]
        }
      ]
    },
    {
      "cell_type": "code",
      "source": [
        "# Import required libraries\n",
        "\n",
        "import praw                       # To crawl Reddit and collect data\n",
        "import pandas as pd               # To work with csv files\n",
        "import matplotlib.pyplot as plt   # To plot graphs\n",
        "import requests                   # To send POST requests\n",
        "import time                       # To track time stamp of submissions\n",
        "import pickle                     # To save and load the data we collect"
      ],
      "metadata": {
        "id": "3YX3F7TKv6PP"
      },
      "execution_count": null,
      "outputs": []
    },
    {
      "cell_type": "code",
      "source": [
        "data = pd.read_csv('/content/drive/MyDrive/Reddit/reddit-india-data.csv', parse_dates=['timestamp'])"
      ],
      "metadata": {
        "id": "bTLXZljXuYFR"
      },
      "execution_count": null,
      "outputs": []
    },
    {
      "cell_type": "code",
      "source": [
        "flairs = [\"Sports\", \"Politics\", \"AskIndia\", \"Business/Finance\", \"Food\", \"Science/Technology\", \"Non-Political\", \"Photography\", \"Policy/Economy\", \"Scheduled\", \"[R]eddiquette\", \"Food\", \"Coronavirus\", \"Demonetization\", \"CAA-NRC\"]\n",
        "\n",
        "filtered_data = pd.DataFrame(data, columns=['id', 'title', 'score', 'flair'])"
      ],
      "metadata": {
        "id": "VAOw2YG5tt_9"
      },
      "execution_count": null,
      "outputs": []
    },
    {
      "cell_type": "code",
      "source": [
        "fig = plt.figure(figsize=(8,6))\n",
        "filtered_data.groupby('flair').title.count().plot.bar(ylim=0)\n",
        "plt.show()"
      ],
      "metadata": {
        "colab": {
          "base_uri": "https://localhost:8080/",
          "height": 664
        },
        "id": "SkL8PKCQu1le",
        "outputId": "8052c3da-927f-4097-cc7d-670cabf60cc8"
      },
      "execution_count": null,
      "outputs": [
        {
          "output_type": "display_data",
          "data": {
            "text/plain": [
              "<Figure size 800x600 with 1 Axes>"
            ],
            "image/png": "[encoded data removed]"
          },
          "metadata": {}
        }
      ]
    },
    {
      "cell_type": "code",
      "source": [
        "filtered_data.to_csv('balanced_data.csv', index=False)"
      ],
      "metadata": {
        "id": "NwEB_UmmgnOi"
      },
      "execution_count": null,
      "outputs": []
    },
    {
      "cell_type": "code",
      "source": [
        "from google.colab import drive\n",
        "drive.mount('/content/gdrive')"
      ],
      "metadata": {
        "colab": {
          "base_uri": "https://localhost:8080/"
        },
        "id": "KwKunEIuwr1A",
        "outputId": "0d8cf8f8-2fbf-48a8-c3f5-4d4950b5e134"
      },
      "execution_count": null,
      "outputs": [
        {
          "output_type": "stream",
          "name": "stdout",
          "text": [
            "Mounted at /content/gdrive\n"
          ]
        }
      ]
    },
    {
      "cell_type": "code",
      "source": [
        "import numpy as np\n",
        "import pandas as pd\n",
        "import tensorflow.keras.backend as K\n",
        "from tensorflow.keras.preprocessing.text import Tokenizer\n",
        "from tensorflow.keras.preprocessing import sequence\n",
        "from tensorflow.keras.layers import Embedding, Layer, Dense, Input, LSTM, Dropout, BatchNormalization, Bidirectional\n",
        "from tensorflow.keras.initializers import Constant\n",
        "from tensorflow.keras.utils import to_categorical\n",
        "from sklearn.model_selection import train_test_split\n",
        "from tensorflow.keras import initializers, regularizers, constraints\n",
        "from tensorflow.keras.models import Model\n",
        "from keras.callbacks import ModelCheckpoint\n",
        "import warnings\n",
        "warnings.filterwarnings('ignore')"
      ],
      "metadata": {
        "id": "5wnz613XSVgw"
      },
      "execution_count": null,
      "outputs": []
    },
    {
      "cell_type": "code",
      "source": [
        "df = pd.read_csv('/content/balanced_data.csv')\n",
        "\n",
        "# Tokenize the posts, ie assign keys to each of the words\n",
        "tokenizer = Tokenizer()\n",
        "tokenizer.fit_on_texts(df.title)\n",
        "X = tokenizer.texts_to_sequences(df.title)\n",
        "df['tokenized'] = X\n",
        "X = list(sequence.pad_sequences(df.tokenized, maxlen=50))\n",
        "word_index = tokenizer.word_index"
      ],
      "metadata": {
        "id": "I15K9fuySgA_"
      },
      "execution_count": null,
      "outputs": []
    },
    {
      "cell_type": "code",
      "source": [
        "flairs = df.groupby('flair').size().index.tolist()\n",
        "flair_to_key = {}\n",
        "key_to_flair = {}\n",
        "for key, flair in enumerate(flairs):\n",
        "  flair_to_key[flair] = key\n",
        "  key_to_flair[key] = flair\n",
        "\n",
        "df['key'] = df['flair'].apply(lambda x: flair_to_key[x])"
      ],
      "metadata": {
        "id": "58GpRI51StVQ"
      },
      "execution_count": null,
      "outputs": []
    },
    {
      "cell_type": "code",
      "source": [
        "X = np.array(X)\n",
        "Y = to_categorical(list(df.key))\n",
        "x_train, x_val, y_train, y_val = train_test_split(X, Y, test_size=0.15, stratify=Y)\n",
        "print(x_train.shape, x_val.shape, y_train.shape, y_val.shape)"
      ],
      "metadata": {
        "colab": {
          "base_uri": "https://localhost:8080/"
        },
        "id": "k8jXSshWSuiF",
        "outputId": "252017b1-95fc-4e46-b82a-2ba619da9b25"
      },
      "execution_count": null,
      "outputs": [
        {
          "output_type": "stream",
          "name": "stdout",
          "text": [
            "(1550, 50) (274, 50) (1550, 8) (274, 8)\n"
          ]
        }
      ]
    },
    {
      "cell_type": "code",
      "source": [
        "class Attention(Layer):\n",
        "    def __init__(self, step_dim,\n",
        "                 W_regularizer=None, b_regularizer=None,\n",
        "                 W_constraint=None, b_constraint=None,\n",
        "                 bias=True, **kwargs):\n",
        "        self.supports_masking = True\n",
        "        self.init = initializers.get('glorot_uniform')\n",
        "        self.W_regularizer = regularizers.get(W_regularizer)\n",
        "        self.b_regularizer = regularizers.get(b_regularizer)\n",
        "        self.W_constraint = constraints.get(W_constraint)\n",
        "        self.b_constraint = constraints.get(b_constraint)\n",
        "        self.bias = bias\n",
        "        self.step_dim = step_dim\n",
        "        self.features_dim = 0\n",
        "        super(Attention, self).__init__(**kwargs)\n",
        "\n",
        "    def build(self, input_shape):\n",
        "        assert len(input_shape) == 3\n",
        "        self.W = self.add_weight(shape=(input_shape[-1],),\n",
        "                                 initializer=self.init,\n",
        "                                 name='{}_W'.format(self.name),\n",
        "                                 regularizer=self.W_regularizer,\n",
        "                                 constraint=self.W_constraint)\n",
        "        self.features_dim = input_shape[-1]\n",
        "        if self.bias:\n",
        "            self.b = self.add_weight(shape=(input_shape[1],),\n",
        "                                     initializer='zero',\n",
        "                                     name='{}_b'.format(self.name),\n",
        "                                     regularizer=self.b_regularizer,\n",
        "                                     constraint=self.b_constraint)\n",
        "        else:\n",
        "            self.b = None\n",
        "        self.built = True\n",
        "\n",
        "    def compute_mask(self, input, input_mask=None):\n",
        "        return None\n",
        "\n",
        "    def call(self, x, mask=None):\n",
        "        features_dim = self.features_dim\n",
        "        step_dim = self.step_dim\n",
        "        eij = K.reshape(K.dot(K.reshape(x, (-1, features_dim)), K.reshape(self.W, (features_dim, 1))), (-1, step_dim))\n",
        "        if self.bias:\n",
        "            eij += self.b\n",
        "        eij = K.tanh(eij)\n",
        "        a = K.exp(eij)\n",
        "        if mask is not None:\n",
        "            a *= K.cast(mask, K.floatx())\n",
        "        a /= K.cast(K.sum(a, axis=1, keepdims=True) + K.epsilon(), K.floatx())\n",
        "        a = K.expand_dims(a)\n",
        "        weighted_input = x * a\n",
        "        return K.sum(weighted_input, axis=1)\n",
        "\n",
        "    def compute_output_shape(self, input_shape):\n",
        "        return input_shape[0],  self.features_dim"
      ],
      "metadata": {
        "id": "Zau1-g9XSyDb"
      },
      "execution_count": null,
      "outputs": []
    },
    {
      "cell_type": "code",
      "source": [
        "from google.colab import drive\n",
        "drive.mount('/content/drive')"
      ],
      "metadata": {
        "colab": {
          "base_uri": "https://localhost:8080/"
        },
        "id": "NwapjPVqS2dl",
        "outputId": "a10cb053-47cb-40db-932e-e08ad65b8a52"
      },
      "execution_count": null,
      "outputs": [
        {
          "output_type": "stream",
          "name": "stdout",
          "text": [
            "Drive already mounted at /content/drive; to attempt to forcibly remount, call drive.mount(\"/content/drive\", force_remount=True).\n"
          ]
        }
      ]
    },
    {
      "cell_type": "code",
      "source": [
        "\n",
        "# Preparing the embedding layer using Stanford's 100 dimensional GloVe word vectors: https://nlp.stanford.edu/projects/glove/\n",
        "# First we create a mapping from the words to their vector representation\n",
        "\n",
        "mapping = {}\n",
        "f = open('/content/drive/MyDrive/Reddit/glove.6B.100d.txt')\n",
        "for embedding in f:\n",
        "    embedding = embedding.split()\n",
        "    word = embedding[0]\n",
        "    vector = embedding[1:]\n",
        "    vector = np.asarray(vector, dtype='float32')\n",
        "    mapping[word] = vector\n",
        "f.close()"
      ],
      "metadata": {
        "id": "C2YkcOLwd-ZR"
      },
      "execution_count": null,
      "outputs": []
    },
    {
      "cell_type": "code",
      "source": [
        "embedding_weights = np.zeros((len(word_index)+1, 100))\n",
        "for word, idx in word_index.items():\n",
        "    vector = mapping.get(word)\n",
        "    if vector is not None:\n",
        "        embedding_weights[idx] = vector\n",
        "\n",
        "embedding_layer = Embedding(len(word_index)+1, 100, embeddings_initializer=Constant(embedding_weights), input_length=50, trainable=False)\n"
      ],
      "metadata": {
        "id": "YtEiHb5NeU3r"
      },
      "execution_count": null,
      "outputs": []
    },
    {
      "cell_type": "code",
      "source": [
        "inputs = Input(shape=(50,), dtype='int32')\n",
        "x = embedding_layer(inputs)\n",
        "x = Bidirectional(LSTM(512, dropout=0.3, recurrent_dropout=0.3, return_sequences=True))(x)\n",
        "x = Dropout(0.3)(x)\n",
        "x = Attention(50)(x)\n",
        "x = Dense(256, activation='relu')(x)\n",
        "x = Dropout(0.3)(x)\n",
        "x = BatchNormalization()(x)\n",
        "outputs = Dense(8, activation='softmax')(x)\n",
        "\n",
        "checkpoint = ModelCheckpoint('best_weights.hdf5', monitor='val_acc', verbose=1, save_best_only=True, save_weights_only=True, mode='max')\n",
        "model = Model(inputs, outputs)\n",
        "model.compile(loss='categorical_crossentropy', optimizer='adam', metrics=['acc'])"
      ],
      "metadata": {
        "id": "8gF3qfyZeY-I"
      },
      "execution_count": null,
      "outputs": []
    },
    {
      "cell_type": "code",
      "source": [
        "history = model.fit(x_train, y_train, batch_size=64, epochs=50, validation_data=(x_val, y_val), callbacks=[checkpoint])"
      ],
      "metadata": {
        "colab": {
          "base_uri": "https://localhost:8080/"
        },
        "id": "OSF70qN3edVX",
        "outputId": "cfb0bdc5-f7b4-40bd-f102-669468e4ca21"
      },
      "execution_count": null,
      "outputs": [
        {
          "output_type": "stream",
          "name": "stdout",
          "text": [
            "Epoch 1/50\n",
            "25/25 [==============================] - ETA: 0s - loss: 0.7389 - acc: 0.7200\n",
            "Epoch 1: val_acc did not improve from 0.56204\n",
            "25/25 [==============================] - 94s 4s/step - loss: 0.7389 - acc: 0.7200 - val_loss: 1.2115 - val_acc: 0.5438\n",
            "Epoch 2/50\n",
            "25/25 [==============================] - ETA: 0s - loss: 0.7112 - acc: 0.7277\n",
            "Epoch 2: val_acc did not improve from 0.56204\n",
            "25/25 [==============================] - 99s 4s/step - loss: 0.7112 - acc: 0.7277 - val_loss: 1.2368 - val_acc: 0.5365\n",
            "Epoch 3/50\n",
            "25/25 [==============================] - ETA: 0s - loss: 0.6723 - acc: 0.7400\n",
            "Epoch 3: val_acc did not improve from 0.56204\n",
            "25/25 [==============================] - 98s 4s/step - loss: 0.6723 - acc: 0.7400 - val_loss: 1.2949 - val_acc: 0.5146\n",
            "Epoch 4/50\n",
            "25/25 [==============================] - ETA: 0s - loss: 0.6306 - acc: 0.7535\n",
            "Epoch 4: val_acc improved from 0.56204 to 0.56934, saving model to best_weights.hdf5\n",
            "25/25 [==============================] - 98s 4s/step - loss: 0.6306 - acc: 0.7535 - val_loss: 1.2114 - val_acc: 0.5693\n",
            "Epoch 5/50\n",
            "25/25 [==============================] - ETA: 0s - loss: 0.6335 - acc: 0.7535\n",
            "Epoch 5: val_acc did not improve from 0.56934\n",
            "25/25 [==============================] - 99s 4s/step - loss: 0.6335 - acc: 0.7535 - val_loss: 1.2584 - val_acc: 0.5292\n",
            "Epoch 6/50\n",
            "25/25 [==============================] - ETA: 0s - loss: 0.5982 - acc: 0.7723\n",
            "Epoch 6: val_acc did not improve from 0.56934\n",
            "25/25 [==============================] - 95s 4s/step - loss: 0.5982 - acc: 0.7723 - val_loss: 1.3205 - val_acc: 0.5292\n",
            "Epoch 7/50\n",
            "25/25 [==============================] - ETA: 0s - loss: 0.5613 - acc: 0.7968\n",
            "Epoch 7: val_acc did not improve from 0.56934\n",
            "25/25 [==============================] - 96s 4s/step - loss: 0.5613 - acc: 0.7968 - val_loss: 1.2951 - val_acc: 0.5474\n",
            "Epoch 8/50\n",
            "25/25 [==============================] - ETA: 0s - loss: 0.4989 - acc: 0.8194\n",
            "Epoch 8: val_acc did not improve from 0.56934\n",
            "25/25 [==============================] - 97s 4s/step - loss: 0.4989 - acc: 0.8194 - val_loss: 1.4982 - val_acc: 0.5401\n",
            "Epoch 9/50\n",
            "25/25 [==============================] - ETA: 0s - loss: 0.4768 - acc: 0.8174\n",
            "Epoch 9: val_acc did not improve from 0.56934\n",
            "25/25 [==============================] - 97s 4s/step - loss: 0.4768 - acc: 0.8174 - val_loss: 1.5259 - val_acc: 0.5474\n",
            "Epoch 10/50\n",
            "25/25 [==============================] - ETA: 0s - loss: 0.4509 - acc: 0.8303\n",
            "Epoch 10: val_acc did not improve from 0.56934\n",
            "25/25 [==============================] - 99s 4s/step - loss: 0.4509 - acc: 0.8303 - val_loss: 1.5333 - val_acc: 0.5255\n",
            "Epoch 11/50\n",
            "25/25 [==============================] - ETA: 0s - loss: 0.4196 - acc: 0.8452\n",
            "Epoch 11: val_acc did not improve from 0.56934\n",
            "25/25 [==============================] - 93s 4s/step - loss: 0.4196 - acc: 0.8452 - val_loss: 1.5816 - val_acc: 0.5584\n",
            "Epoch 12/50\n",
            "25/25 [==============================] - ETA: 0s - loss: 0.3895 - acc: 0.8535\n",
            "Epoch 12: val_acc did not improve from 0.56934\n",
            "25/25 [==============================] - 97s 4s/step - loss: 0.3895 - acc: 0.8535 - val_loss: 1.5484 - val_acc: 0.5292\n",
            "Epoch 13/50\n",
            "25/25 [==============================] - ETA: 0s - loss: 0.3683 - acc: 0.8742\n",
            "Epoch 13: val_acc did not improve from 0.56934\n",
            "25/25 [==============================] - 96s 4s/step - loss: 0.3683 - acc: 0.8742 - val_loss: 1.6614 - val_acc: 0.5620\n",
            "Epoch 14/50\n",
            "25/25 [==============================] - ETA: 0s - loss: 0.3548 - acc: 0.8697\n",
            "Epoch 14: val_acc did not improve from 0.56934\n",
            "25/25 [==============================] - 96s 4s/step - loss: 0.3548 - acc: 0.8697 - val_loss: 1.7180 - val_acc: 0.5328\n",
            "Epoch 15/50\n",
            "25/25 [==============================] - ETA: 0s - loss: 0.3487 - acc: 0.8781\n",
            "Epoch 15: val_acc did not improve from 0.56934\n",
            "25/25 [==============================] - 96s 4s/step - loss: 0.3487 - acc: 0.8781 - val_loss: 1.8122 - val_acc: 0.5401\n",
            "Epoch 16/50\n",
            "25/25 [==============================] - ETA: 0s - loss: 0.2923 - acc: 0.8961\n",
            "Epoch 16: val_acc did not improve from 0.56934\n",
            "25/25 [==============================] - 96s 4s/step - loss: 0.2923 - acc: 0.8961 - val_loss: 2.0132 - val_acc: 0.5584\n",
            "Epoch 17/50\n",
            "25/25 [==============================] - ETA: 0s - loss: 0.2608 - acc: 0.9097\n",
            "Epoch 17: val_acc did not improve from 0.56934\n",
            "25/25 [==============================] - 99s 4s/step - loss: 0.2608 - acc: 0.9097 - val_loss: 1.8918 - val_acc: 0.5401\n",
            "Epoch 18/50\n",
            "25/25 [==============================] - ETA: 0s - loss: 0.2439 - acc: 0.9142\n",
            "Epoch 18: val_acc did not improve from 0.56934\n",
            "25/25 [==============================] - 97s 4s/step - loss: 0.2439 - acc: 0.9142 - val_loss: 1.8665 - val_acc: 0.5511\n",
            "Epoch 19/50\n",
            "25/25 [==============================] - ETA: 0s - loss: 0.2227 - acc: 0.9116\n",
            "Epoch 19: val_acc did not improve from 0.56934\n",
            "25/25 [==============================] - 94s 4s/step - loss: 0.2227 - acc: 0.9116 - val_loss: 1.9372 - val_acc: 0.5365\n",
            "Epoch 20/50\n",
            "25/25 [==============================] - ETA: 0s - loss: 0.2150 - acc: 0.9284\n",
            "Epoch 20: val_acc did not improve from 0.56934\n",
            "25/25 [==============================] - 95s 4s/step - loss: 0.2150 - acc: 0.9284 - val_loss: 2.2210 - val_acc: 0.5328\n",
            "Epoch 21/50\n",
            "25/25 [==============================] - ETA: 0s - loss: 0.2218 - acc: 0.9252\n",
            "Epoch 21: val_acc did not improve from 0.56934\n",
            "25/25 [==============================] - 96s 4s/step - loss: 0.2218 - acc: 0.9252 - val_loss: 1.9764 - val_acc: 0.5657\n",
            "Epoch 22/50\n",
            "25/25 [==============================] - ETA: 0s - loss: 0.1973 - acc: 0.9406\n",
            "Epoch 22: val_acc did not improve from 0.56934\n",
            "25/25 [==============================] - 96s 4s/step - loss: 0.1973 - acc: 0.9406 - val_loss: 1.9615 - val_acc: 0.5255\n",
            "Epoch 23/50\n",
            "25/25 [==============================] - ETA: 0s - loss: 0.1627 - acc: 0.9490\n",
            "Epoch 23: val_acc did not improve from 0.56934\n",
            "25/25 [==============================] - 94s 4s/step - loss: 0.1627 - acc: 0.9490 - val_loss: 2.2184 - val_acc: 0.5292\n",
            "Epoch 24/50\n",
            "25/25 [==============================] - ETA: 0s - loss: 0.1547 - acc: 0.9452\n",
            "Epoch 24: val_acc did not improve from 0.56934\n",
            "25/25 [==============================] - 95s 4s/step - loss: 0.1547 - acc: 0.9452 - val_loss: 2.1908 - val_acc: 0.5547\n",
            "Epoch 25/50\n",
            "25/25 [==============================] - ETA: 0s - loss: 0.1676 - acc: 0.9432\n",
            "Epoch 25: val_acc did not improve from 0.56934\n",
            "25/25 [==============================] - 94s 4s/step - loss: 0.1676 - acc: 0.9432 - val_loss: 2.0522 - val_acc: 0.5474\n",
            "Epoch 26/50\n",
            "25/25 [==============================] - ETA: 0s - loss: 0.1357 - acc: 0.9581\n",
            "Epoch 26: val_acc did not improve from 0.56934\n",
            "25/25 [==============================] - 93s 4s/step - loss: 0.1357 - acc: 0.9581 - val_loss: 2.1855 - val_acc: 0.5584\n",
            "Epoch 27/50\n",
            "25/25 [==============================] - ETA: 0s - loss: 0.1432 - acc: 0.9523\n",
            "Epoch 27: val_acc did not improve from 0.56934\n",
            "25/25 [==============================] - 93s 4s/step - loss: 0.1432 - acc: 0.9523 - val_loss: 2.1395 - val_acc: 0.5365\n",
            "Epoch 28/50\n",
            "25/25 [==============================] - ETA: 0s - loss: 0.1231 - acc: 0.9619\n",
            "Epoch 28: val_acc did not improve from 0.56934\n",
            "25/25 [==============================] - 90s 4s/step - loss: 0.1231 - acc: 0.9619 - val_loss: 2.0724 - val_acc: 0.5547\n",
            "Epoch 29/50\n",
            "25/25 [==============================] - ETA: 0s - loss: 0.1244 - acc: 0.9645\n",
            "Epoch 29: val_acc did not improve from 0.56934\n",
            "25/25 [==============================] - 99s 4s/step - loss: 0.1244 - acc: 0.9645 - val_loss: 2.2448 - val_acc: 0.5547\n",
            "Epoch 30/50\n",
            "25/25 [==============================] - ETA: 0s - loss: 0.1171 - acc: 0.9626\n",
            "Epoch 30: val_acc did not improve from 0.56934\n",
            "25/25 [==============================] - 95s 4s/step - loss: 0.1171 - acc: 0.9626 - val_loss: 2.2858 - val_acc: 0.5109\n",
            "Epoch 31/50\n",
            "25/25 [==============================] - ETA: 0s - loss: 0.1082 - acc: 0.9684\n",
            "Epoch 31: val_acc did not improve from 0.56934\n",
            "25/25 [==============================] - 94s 4s/step - loss: 0.1082 - acc: 0.9684 - val_loss: 2.1672 - val_acc: 0.5438\n",
            "Epoch 32/50\n",
            "25/25 [==============================] - ETA: 0s - loss: 0.0975 - acc: 0.9658\n",
            "Epoch 32: val_acc did not improve from 0.56934\n",
            "25/25 [==============================] - 95s 4s/step - loss: 0.0975 - acc: 0.9658 - val_loss: 2.2031 - val_acc: 0.5511\n",
            "Epoch 33/50\n",
            "25/25 [==============================] - ETA: 0s - loss: 0.0834 - acc: 0.9774\n",
            "Epoch 33: val_acc improved from 0.56934 to 0.57299, saving model to best_weights.hdf5\n",
            "25/25 [==============================] - 93s 4s/step - loss: 0.0834 - acc: 0.9774 - val_loss: 2.1446 - val_acc: 0.5730\n",
            "Epoch 34/50\n",
            "25/25 [==============================] - ETA: 0s - loss: 0.0840 - acc: 0.9755\n",
            "Epoch 34: val_acc did not improve from 0.57299\n",
            "25/25 [==============================] - 91s 4s/step - loss: 0.0840 - acc: 0.9755 - val_loss: 2.2673 - val_acc: 0.5255\n",
            "Epoch 35/50\n",
            "25/25 [==============================] - ETA: 0s - loss: 0.0895 - acc: 0.9742\n",
            "Epoch 35: val_acc did not improve from 0.57299\n",
            "25/25 [==============================] - 96s 4s/step - loss: 0.0895 - acc: 0.9742 - val_loss: 2.3643 - val_acc: 0.5109\n",
            "Epoch 36/50\n",
            "25/25 [==============================] - ETA: 0s - loss: 0.0744 - acc: 0.9781\n",
            "Epoch 36: val_acc did not improve from 0.57299\n",
            "25/25 [==============================] - 93s 4s/step - loss: 0.0744 - acc: 0.9781 - val_loss: 2.5922 - val_acc: 0.5547\n",
            "Epoch 37/50\n",
            "25/25 [==============================] - ETA: 0s - loss: 0.0706 - acc: 0.9768\n",
            "Epoch 37: val_acc did not improve from 0.57299\n",
            "25/25 [==============================] - 93s 4s/step - loss: 0.0706 - acc: 0.9768 - val_loss: 2.3277 - val_acc: 0.5328\n",
            "Epoch 38/50\n",
            "25/25 [==============================] - ETA: 0s - loss: 0.0722 - acc: 0.9787\n",
            "Epoch 38: val_acc did not improve from 0.57299\n",
            "25/25 [==============================] - 93s 4s/step - loss: 0.0722 - acc: 0.9787 - val_loss: 2.2308 - val_acc: 0.5511\n",
            "Epoch 39/50\n",
            "25/25 [==============================] - ETA: 0s - loss: 0.0761 - acc: 0.9800\n",
            "Epoch 39: val_acc did not improve from 0.57299\n",
            "25/25 [==============================] - 91s 4s/step - loss: 0.0761 - acc: 0.9800 - val_loss: 2.2882 - val_acc: 0.5401\n",
            "Epoch 40/50\n",
            "25/25 [==============================] - ETA: 0s - loss: 0.0724 - acc: 0.9794\n",
            "Epoch 40: val_acc did not improve from 0.57299\n",
            "25/25 [==============================] - 95s 4s/step - loss: 0.0724 - acc: 0.9794 - val_loss: 2.4396 - val_acc: 0.5219\n",
            "Epoch 41/50\n",
            "25/25 [==============================] - ETA: 0s - loss: 0.0556 - acc: 0.9806\n",
            "Epoch 41: val_acc did not improve from 0.57299\n",
            "25/25 [==============================] - 95s 4s/step - loss: 0.0556 - acc: 0.9806 - val_loss: 2.4634 - val_acc: 0.5474\n",
            "Epoch 42/50\n",
            "25/25 [==============================] - ETA: 0s - loss: 0.0444 - acc: 0.9890\n",
            "Epoch 42: val_acc did not improve from 0.57299\n",
            "25/25 [==============================] - 95s 4s/step - loss: 0.0444 - acc: 0.9890 - val_loss: 2.4955 - val_acc: 0.5620\n",
            "Epoch 43/50\n",
            "25/25 [==============================] - ETA: 0s - loss: 0.0386 - acc: 0.9910\n",
            "Epoch 43: val_acc did not improve from 0.57299\n",
            "25/25 [==============================] - 95s 4s/step - loss: 0.0386 - acc: 0.9910 - val_loss: 2.5501 - val_acc: 0.5511\n",
            "Epoch 44/50\n",
            "25/25 [==============================] - ETA: 0s - loss: 0.0533 - acc: 0.9845\n",
            "Epoch 44: val_acc did not improve from 0.57299\n",
            "25/25 [==============================] - 93s 4s/step - loss: 0.0533 - acc: 0.9845 - val_loss: 2.5628 - val_acc: 0.5657\n",
            "Epoch 45/50\n",
            "25/25 [==============================] - ETA: 0s - loss: 0.0378 - acc: 0.9923\n",
            "Epoch 45: val_acc did not improve from 0.57299\n",
            "25/25 [==============================] - 94s 4s/step - loss: 0.0378 - acc: 0.9923 - val_loss: 2.4932 - val_acc: 0.5474\n",
            "Epoch 46/50\n",
            "25/25 [==============================] - ETA: 0s - loss: 0.0375 - acc: 0.9890\n",
            "Epoch 46: val_acc improved from 0.57299 to 0.57664, saving model to best_weights.hdf5\n",
            "25/25 [==============================] - 94s 4s/step - loss: 0.0375 - acc: 0.9890 - val_loss: 2.4698 - val_acc: 0.5766\n",
            "Epoch 47/50\n",
            "25/25 [==============================] - ETA: 0s - loss: 0.0757 - acc: 0.9781\n",
            "Epoch 47: val_acc did not improve from 0.57664\n",
            "25/25 [==============================] - 94s 4s/step - loss: 0.0757 - acc: 0.9781 - val_loss: 2.6637 - val_acc: 0.5182\n",
            "Epoch 48/50\n",
            "25/25 [==============================] - ETA: 0s - loss: 0.0983 - acc: 0.9723\n",
            "Epoch 48: val_acc did not improve from 0.57664\n",
            "25/25 [==============================] - 92s 4s/step - loss: 0.0983 - acc: 0.9723 - val_loss: 2.5225 - val_acc: 0.5219\n",
            "Epoch 49/50\n",
            "25/25 [==============================] - ETA: 0s - loss: 0.0760 - acc: 0.9761\n",
            "Epoch 49: val_acc did not improve from 0.57664\n",
            "25/25 [==============================] - 95s 4s/step - loss: 0.0760 - acc: 0.9761 - val_loss: 2.2485 - val_acc: 0.5474\n",
            "Epoch 50/50\n",
            "25/25 [==============================] - ETA: 0s - loss: 0.0696 - acc: 0.9800\n",
            "Epoch 50: val_acc did not improve from 0.57664\n",
            "25/25 [==============================] - 94s 4s/step - loss: 0.0696 - acc: 0.9800 - val_loss: 2.2348 - val_acc: 0.5438\n"
          ]
        }
      ]
    },
    {
      "cell_type": "code",
      "source": [
        "import pickle\n",
        "pickle_out = open(\"tokenizer.pickle\", \"wb\")\n",
        "pickle.dump(tokenizer, pickle_out)\n",
        "pickle_out.close()"
      ],
      "metadata": {
        "id": "2q3LiaNd6ziz"
      },
      "execution_count": null,
      "outputs": []
    },
    {
      "cell_type": "code",
      "source": [
        "model.load_weights(\"best_weights.hdf5\")"
      ],
      "metadata": {
        "id": "p-KiPO7065dq"
      },
      "execution_count": null,
      "outputs": []
    },
    {
      "cell_type": "code",
      "source": [
        "from sklearn.metrics import precision_score, recall_score, accuracy_score, f1_score\n",
        "\n",
        "preds = model.predict(x_val)\n",
        "y = np.asarray([np.argmax(line) for line in y_val])\n",
        "preds = np.asarray([np.argmax(line) for line in preds])\n",
        "\n",
        "print(\"Accuracy = {}\".format(accuracy_score(y, preds)))\n",
        "print(\"F1 score = {}\".format(f1_score(y, preds, average='macro')))\n",
        "print(\"Precision = {}\".format(precision_score(y, preds, average='macro')))\n",
        "print(\"Recall = {}\".format(recall_score(y, preds, average='macro')))"
      ],
      "metadata": {
        "colab": {
          "base_uri": "https://localhost:8080/"
        },
        "id": "05kwYIJf68HG",
        "outputId": "56b68813-e48d-4a31-daf2-c8aa5cc06483"
      },
      "execution_count": null,
      "outputs": [
        {
          "output_type": "stream",
          "name": "stdout",
          "text": [
            "9/9 [==============================] - 6s 634ms/step\n",
            "Accuracy = 0.5766423357664233\n",
            "F1 score = 0.5557675612227422\n",
            "Precision = 0.5544982452315278\n",
            "Recall = 0.5673798798798798\n"
          ]
        }
      ]
    }
  ]
}