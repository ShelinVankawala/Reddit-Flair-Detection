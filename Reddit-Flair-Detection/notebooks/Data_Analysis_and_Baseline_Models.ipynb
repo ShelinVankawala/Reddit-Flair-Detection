{
  "nbformat": 4,
  "nbformat_minor": 0,
  "metadata": {
    "colab": {
      "name": "Data Analysis and Baseline Models.ipynb",
      "version": "0.3.2",
      "provenance": [],
      "collapsed_sections": [],
      "toc_visible": true
    },
    "kernelspec": {
      "name": "python3",
      "display_name": "Python 3"
    },
    "accelerator": "GPU"
  },
  "cells": [
    {
      "metadata": {
        "id": "BbduRWlbBCTU",
        "colab_type": "text"
      },
      "cell_type": "markdown",
      "source": [
        "# Reddit Flair Classification"
      ]
    },
    {
      "metadata": {
        "id": "x4ldbnG24qQZ",
        "colab_type": "text"
      },
      "cell_type": "markdown",
      "source": [
        "## **Data Analysis and Baseline Models**\n",
        "\n",
        "This notebook demonstrates simple data exploration and building baseline models using different features and algorithms. Since our dataset is almost balenced, we will use the metric accuracy to evaluate the results."
      ]
    },
    {
      "metadata": {
        "id": "kUh1B9Xg5PkK",
        "colab_type": "code",
        "outputId": "39bbc09a-c173-4245-825c-0c2b23fbd99c",
        "colab": {
          "base_uri": "https://localhost:8080/",
          "height": 85
        }
      },
      "cell_type": "code",
      "source": [
        "import csv\n",
        "import os\n",
        "import random\n",
        "import json\n",
        "import numpy as np\n",
        "import pandas as pd\n",
        "import nltk \n",
        "nltk.download('stopwords')\n",
        "from nltk.corpus import stopwords\n",
        "import string\n",
        "from sklearn.feature_extraction.text import CountVectorizer\n",
        "from sklearn.model_selection import train_test_split\n",
        "import xgboost as xgb\n",
        "import gc\n",
        "import seaborn as sns\n",
        "color = sns.color_palette()\n",
        "\n",
        "eng_stopwords = set(stopwords.words(\"english\"))\n",
        "\n",
        "import matplotlib.pyplot as plt\n",
        "from sklearn.feature_extraction.text import TfidfVectorizer\n",
        "import re, string\n",
        "from sklearn.metrics import log_loss\n",
        "%matplotlib inline\n",
        "\n",
        "print('Python version:',np.version)\n",
        "print('Pandas version:',pd.__version__)"
      ],
      "execution_count": 0,
      "outputs": [
        {
          "output_type": "stream",
          "text": [
            "[nltk_data] Downloading package stopwords to /root/nltk_data...\n",
            "[nltk_data]   Unzipping corpora/stopwords.zip.\n",
            "Python version: <module 'numpy.version' from '/usr/local/lib/python3.6/dist-packages/numpy/version.py'>\n",
            "Pandas version: 0.22.0\n"
          ],
          "name": "stdout"
        }
      ]
    },
    {
      "metadata": {
        "id": "S89VFiR_5nT7",
        "colab_type": "text"
      },
      "cell_type": "markdown",
      "source": [
        "### Loading the train and test sets and displaying number of samples for each flair category"
      ]
    },
    {
      "metadata": {
        "id": "I998u_Hoj-Eq",
        "colab_type": "code",
        "outputId": "1fbbea6e-2851-41e5-cfe2-102aee202825",
        "colab": {
          "base_uri": "https://localhost:8080/",
          "height": 204
        }
      },
      "cell_type": "code",
      "source": [
        "train_json = []\n",
        "\n",
        "for line in (open('train.json', 'r')):\n",
        "    train_json.append(json.loads(line))\n",
        "\n",
        "train = pd.DataFrame.from_records(train_json)\n",
        "\n",
        "flairs = list(set(train['link_flair_text']))\n",
        "for flair in flairs:\n",
        "    print (flair,': ' , len(train[train['link_flair_text'] == flair]))"
      ],
      "execution_count": 0,
      "outputs": [
        {
          "output_type": "stream",
          "text": [
            "Photography :  554\n",
            "Science/Technology :  1626\n",
            "Sports :  1719\n",
            "Scheduled :  1596\n",
            "Food :  1656\n",
            "[R]eddiquette :  1604\n",
            "Policy/Economy :  1431\n",
            "Business/Finance :  1604\n",
            "Politics :  1587\n",
            "Non-Political :  1586\n",
            "AskIndia :  1523\n"
          ],
          "name": "stdout"
        }
      ]
    },
    {
      "metadata": {
        "id": "uK-xqpLGj-Ic",
        "colab_type": "code",
        "outputId": "3bb358d2-e01f-407b-95c5-90c624681564",
        "colab": {
          "base_uri": "https://localhost:8080/",
          "height": 204
        }
      },
      "cell_type": "code",
      "source": [
        "test_json = []\n",
        "\n",
        "for line in (open('test.json', 'r')):\n",
        "    test_json.append(json.loads(line))\n",
        "\n",
        "test = pd.DataFrame.from_records(test_json)\n",
        "\n",
        "flairs = list(set(test['link_flair_text']))\n",
        "for flair in flairs:\n",
        "    print (flair,': ' , len(test[test['link_flair_text'] == flair]))"
      ],
      "execution_count": 0,
      "outputs": [
        {
          "output_type": "stream",
          "text": [
            "Photography :  86\n",
            "Science/Technology :  374\n",
            "Sports :  281\n",
            "Scheduled :  372\n",
            "Food :  344\n",
            "[R]eddiquette :  396\n",
            "Policy/Economy :  569\n",
            "Business/Finance :  396\n",
            "Politics :  413\n",
            "Non-Political :  414\n",
            "AskIndia :  477\n"
          ],
          "name": "stdout"
        }
      ]
    },
    {
      "metadata": {
        "id": "swoJjZwCC8nm",
        "colab_type": "text"
      },
      "cell_type": "markdown",
      "source": [
        "### Lets observe the different features we have:\n",
        "```\n",
        "1. author - Author name\n",
        "2. comments - list of top comments (limited to 10)\n",
        "3. created_utc - timestamp of creation of post\n",
        "4. link_flair_text - flair of the post\n",
        "5. num_comments - number of comments\n",
        "6. over_18 - described as whether post is age restricted or not\n",
        "7. score - calculated as upvotes - downvotes\n",
        "8. selftext - body of the post\n",
        "9. title - title of the post\n",
        "10. url - url associated with the post\n",
        "```"
      ]
    },
    {
      "metadata": {
        "id": "NxFJf4IeC37z",
        "colab_type": "code",
        "outputId": "4dbe115a-cdc7-478c-a963-35af89e1f377",
        "colab": {
          "base_uri": "https://localhost:8080/",
          "height": 202
        }
      },
      "cell_type": "code",
      "source": [
        "train.head(1)"
      ],
      "execution_count": 0,
      "outputs": [
        {
          "output_type": "execute_result",
          "data": {
            "text/html": [
              "<div>\n",
              "<style scoped>\n",
              "    .dataframe tbody tr th:only-of-type {\n",
              "        vertical-align: middle;\n",
              "    }\n",
              "\n",
              "    .dataframe tbody tr th {\n",
              "        vertical-align: top;\n",
              "    }\n",
              "\n",
              "    .dataframe thead th {\n",
              "        text-align: right;\n",
              "    }\n",
              "</style>\n",
              "<table border=\"1\" class=\"dataframe\">\n",
              "  <thead>\n",
              "    <tr style=\"text-align: right;\">\n",
              "      <th></th>\n",
              "      <th>_id</th>\n",
              "      <th>author</th>\n",
              "      <th>comments</th>\n",
              "      <th>created_utc</th>\n",
              "      <th>id</th>\n",
              "      <th>link_flair_text</th>\n",
              "      <th>num_comments</th>\n",
              "      <th>over_18</th>\n",
              "      <th>score</th>\n",
              "      <th>selftext</th>\n",
              "      <th>title</th>\n",
              "      <th>url</th>\n",
              "    </tr>\n",
              "  </thead>\n",
              "  <tbody>\n",
              "    <tr>\n",
              "      <th>0</th>\n",
              "      <td>{'$oid': '5c5959797cf03b047caaa61a'}</td>\n",
              "      <td>[deleted]</td>\n",
              "      <td>[Listen to me. \\n\\n5 years down the line, this...</td>\n",
              "      <td>1524926782</td>\n",
              "      <td>8fkbkh</td>\n",
              "      <td>[R]eddiquette</td>\n",
              "      <td>29</td>\n",
              "      <td>False</td>\n",
              "      <td>50</td>\n",
              "      <td>So, I didn't do well in JEE Mains, even after ...</td>\n",
              "      <td>[R] Losing the will to live every single day</td>\n",
              "      <td>https://www.reddit.com/r/india/comments/8fkbkh...</td>\n",
              "    </tr>\n",
              "  </tbody>\n",
              "</table>\n",
              "</div>"
            ],
            "text/plain": [
              "                                    _id     author  \\\n",
              "0  {'$oid': '5c5959797cf03b047caaa61a'}  [deleted]   \n",
              "\n",
              "                                            comments created_utc      id  \\\n",
              "0  [Listen to me. \\n\\n5 years down the line, this...  1524926782  8fkbkh   \n",
              "\n",
              "  link_flair_text num_comments  over_18 score  \\\n",
              "0   [R]eddiquette           29    False    50   \n",
              "\n",
              "                                            selftext  \\\n",
              "0  So, I didn't do well in JEE Mains, even after ...   \n",
              "\n",
              "                                          title  \\\n",
              "0  [R] Losing the will to live every single day   \n",
              "\n",
              "                                                 url  \n",
              "0  https://www.reddit.com/r/india/comments/8fkbkh...  "
            ]
          },
          "metadata": {
            "tags": []
          },
          "execution_count": 62
        }
      ]
    },
    {
      "metadata": {
        "id": "NIbu5r8aCjnU",
        "colab_type": "text"
      },
      "cell_type": "markdown",
      "source": [
        "Creating a mapping from labels to ids and vice-versa"
      ]
    },
    {
      "metadata": {
        "id": "oWn6j8l2aLlk",
        "colab_type": "code",
        "outputId": "ead9bca5-0ee4-43fc-f157-1543279c4dfd",
        "colab": {
          "base_uri": "https://localhost:8080/",
          "height": 204
        }
      },
      "cell_type": "code",
      "source": [
        "label_to_id = {'AskIndia': 0,\n",
        " 'Business/Finance': 1,\n",
        " 'Food': 2,\n",
        " 'Non-Political': 3,\n",
        " 'Photography': 4,\n",
        " 'Policy/Economy': 5,\n",
        " 'Politics': 6,\n",
        " 'Scheduled': 7,\n",
        " 'Science/Technology': 8,\n",
        " 'Sports': 9,\n",
        " '[R]eddiquette': 10}\n",
        "\n",
        "id_to_label = {v: k for k, v in label_to_id.items()}\n",
        "id_to_label"
      ],
      "execution_count": 0,
      "outputs": [
        {
          "output_type": "execute_result",
          "data": {
            "text/plain": [
              "{0: 'AskIndia',\n",
              " 1: 'Business/Finance',\n",
              " 2: 'Food',\n",
              " 3: 'Non-Political',\n",
              " 4: 'Photography',\n",
              " 5: 'Policy/Economy',\n",
              " 6: 'Politics',\n",
              " 7: 'Scheduled',\n",
              " 8: 'Science/Technology',\n",
              " 9: 'Sports',\n",
              " 10: '[R]eddiquette'}"
            ]
          },
          "metadata": {
            "tags": []
          },
          "execution_count": 63
        }
      ]
    },
    {
      "metadata": {
        "id": "4btjs1etCx3b",
        "colab_type": "text"
      },
      "cell_type": "markdown",
      "source": [
        "Since title and body of the post describe the same thing we merge as one. Before that we check if selftext is empty or not."
      ]
    },
    {
      "metadata": {
        "id": "ysN2n1m8c7d_",
        "colab_type": "code",
        "outputId": "c7405b07-fac4-47da-f2cc-8e821652a2b9",
        "colab": {
          "base_uri": "https://localhost:8080/",
          "height": 68
        }
      },
      "cell_type": "code",
      "source": [
        "train['selftext'] = train['selftext'].astype(str)\n",
        "test['selftext'] = test['selftext'].astype(str)\n",
        "\n",
        "empties = ['nan', '[deleted]', '[removed]']\n",
        "for empty in empties:\n",
        "  print(empty, len(train[train['selftext'] == empty]))"
      ],
      "execution_count": 0,
      "outputs": [
        {
          "output_type": "stream",
          "text": [
            "nan 10262\n",
            "[deleted] 2428\n",
            "[removed] 926\n"
          ],
          "name": "stdout"
        }
      ]
    },
    {
      "metadata": {
        "id": "eg306-bDEUrS",
        "colab_type": "text"
      },
      "cell_type": "markdown",
      "source": [
        "Here we replace removed, nan or deleted text in selftext with an empty character"
      ]
    },
    {
      "metadata": {
        "id": "srR758hrc-12",
        "colab_type": "code",
        "colab": {}
      },
      "cell_type": "code",
      "source": [
        "train['selftext'] = train['selftext'].apply(lambda x: '' if x in empties else x)\n",
        "test['selftext'] = test['selftext'].apply(lambda x: '' if x in empties else x)"
      ],
      "execution_count": 0,
      "outputs": []
    },
    {
      "metadata": {
        "id": "nvbrIkU6c_t3",
        "colab_type": "code",
        "outputId": "2304680a-3714-4ab3-c4a0-89cd27f00f58",
        "colab": {
          "base_uri": "https://localhost:8080/",
          "height": 68
        }
      },
      "cell_type": "code",
      "source": [
        "empties = ['nan', '[deleted]', '[removed]']\n",
        "for empty in empties:\n",
        "  print(empty, len(train[train['selftext'] == empty]))"
      ],
      "execution_count": 0,
      "outputs": [
        {
          "output_type": "stream",
          "text": [
            "nan 0\n",
            "[deleted] 0\n",
            "[removed] 0\n"
          ],
          "name": "stdout"
        }
      ]
    },
    {
      "metadata": {
        "id": "jek9cSqpc_xm",
        "colab_type": "code",
        "colab": {}
      },
      "cell_type": "code",
      "source": [
        "train['title'] = train['title'] + ' ' + train['selftext']\n",
        "test['title'] = test['title'] + ' ' + test['selftext']"
      ],
      "execution_count": 0,
      "outputs": []
    },
    {
      "metadata": {
        "id": "KcT4mxa4JlEq",
        "colab_type": "text"
      },
      "cell_type": "markdown",
      "source": [
        "**Before performing any modelling, lets preprocess and clean the text data**"
      ]
    },
    {
      "metadata": {
        "id": "UswMJ6IuJkZH",
        "colab_type": "code",
        "colab": {}
      },
      "cell_type": "code",
      "source": [
        "import unicodedata\n",
        "import re\n",
        "\n",
        "def unicodeToAscii(s):\n",
        "    return ''.join(\n",
        "        c for c in unicodedata.normalize('NFD', s)\n",
        "        if unicodedata.category(c) != 'Mn'\n",
        "    )\n",
        "def normalizeString(s):\n",
        "    s = unicodeToAscii(s.lower().strip())\n",
        "    s = re.sub(r\"([.!?])\", r\" \\1\", s)\n",
        "    s = re.sub(r\"[^a-zA-Z.!?]+\", r\" \", s)\n",
        "    return s"
      ],
      "execution_count": 0,
      "outputs": []
    },
    {
      "metadata": {
        "id": "JrGChR46Jmk0",
        "colab_type": "code",
        "colab": {}
      },
      "cell_type": "code",
      "source": [
        "train['title'] = train['title'].apply(lambda x: normalizeString(x))\n",
        "test['title'] = test['title'].apply(lambda x: normalizeString(x))"
      ],
      "execution_count": 0,
      "outputs": []
    },
    {
      "metadata": {
        "id": "numcrArFFhQn",
        "colab_type": "text"
      },
      "cell_type": "markdown",
      "source": [
        "### We remove the following features since these do not carry necessary information."
      ]
    },
    {
      "metadata": {
        "id": "QE5zPHTYF0DP",
        "colab_type": "code",
        "colab": {}
      },
      "cell_type": "code",
      "source": [
        "train = train.drop(['_id', 'id', 'url', 'created_utc', 'author', 'selftext'], axis=1)\n",
        "test = test.drop(['_id', 'id', 'url', 'created_utc', 'author', 'selftext'], axis=1)"
      ],
      "execution_count": 0,
      "outputs": []
    },
    {
      "metadata": {
        "id": "Nh7aPiamF6NW",
        "colab_type": "text"
      },
      "cell_type": "markdown",
      "source": [
        "A histogram of the sample count per flair"
      ]
    },
    {
      "metadata": {
        "id": "Namx5ks8F4Bt",
        "colab_type": "code",
        "outputId": "f5fe6231-7846-40d0-b7df-22445801bc1b",
        "colab": {
          "base_uri": "https://localhost:8080/",
          "height": 553
        }
      },
      "cell_type": "code",
      "source": [
        "cnt_srs = train['link_flair_text'].value_counts()\n",
        "\n",
        "plt.figure(figsize=(14,8))\n",
        "sns.barplot(cnt_srs.index, cnt_srs.values, alpha=0.8)\n",
        "plt.ylabel('Number of Occurrences', fontsize=12)\n",
        "plt.xlabel('Flair', fontsize=12)\n",
        "plt.show()"
      ],
      "execution_count": 0,
      "outputs": [
        {
          "output_type": "stream",
          "text": [
            "/usr/local/lib/python3.6/dist-packages/seaborn/categorical.py:1428: FutureWarning: remove_na is deprecated and is a private function. Do not use.\n",
            "  stat_data = remove_na(group_data)\n"
          ],
          "name": "stderr"
        },
        {
          "output_type": "display_data",
          "data": {
            "image/png": "[encoded data removed]",
            "text/plain": [
              "<Figure size 1008x576 with 1 Axes>"
            ]
          },
          "metadata": {
            "tags": []
          }
        }
      ]
    },
    {
      "metadata": {
        "id": "pvSdjH1PG8CM",
        "colab_type": "text"
      },
      "cell_type": "markdown",
      "source": [
        "### Meta Features:\n",
        "\n",
        "### Let us build some  creating meta featues and see how good are they at predicting the flairs. The feature list is as follows:\n",
        "\n",
        "1. Number of words in the text\n",
        "2. Number of unique words in the text\n",
        "3. Number of characters in the text\n",
        "4. Number of stopwords\n",
        "5. Number of punctuations\n",
        "6. Number of upper case words\n",
        "7. Number of title case words\n",
        "8. Average length of the words\n",
        "9. Converting over_18 to binary\n",
        "10. Converting num_comments and score to float"
      ]
    },
    {
      "metadata": {
        "id": "x8RQBjuJ_uuR",
        "colab_type": "code",
        "colab": {}
      },
      "cell_type": "code",
      "source": [
        "train[\"over_18\"] = train[\"over_18\"].apply(lambda x: 1 if x == True else 0)\n",
        "test[\"over_18\"] = test[\"over_18\"].apply(lambda x: 1 if x == True else 0)\n",
        "\n",
        "train[\"num_comments\"] = train[\"num_comments\"].apply(lambda x: float(x))\n",
        "test[\"num_comments\"] = test[\"num_comments\"].apply(lambda x: float(x))\n",
        "\n",
        "train[\"score\"] = train[\"score\"].apply(lambda x: float(x))\n",
        "test[\"score\"] = test[\"score\"].apply(lambda x: float(x))\n",
        "\n",
        "train[\"num_words\"] = train[\"title\"].apply(lambda x: len(str(x).split()))\n",
        "test[\"num_words\"] = test[\"title\"].apply(lambda x: len(str(x).split()))\n",
        "\n",
        "train[\"num_unique_words\"] = train[\"title\"].apply(lambda x: len(set(str(x).split())))\n",
        "test[\"num_unique_words\"] = test[\"title\"].apply(lambda x: len(set(str(x).split())))\n",
        "\n",
        "train[\"num_chars\"] = train[\"title\"].apply(lambda x: len(str(x)))\n",
        "test[\"num_chars\"] = test[\"title\"].apply(lambda x: len(str(x)))\n",
        "\n",
        "train[\"num_stopwords\"] = train[\"title\"].apply(lambda x: len([w for w in str(x).lower().split() if w in eng_stopwords]))\n",
        "test[\"num_stopwords\"] = test[\"title\"].apply(lambda x: len([w for w in str(x).lower().split() if w in eng_stopwords]))\n",
        "\n",
        "train[\"num_punctuations\"] =train['title'].apply(lambda x: len([c for c in str(x) if c in string.punctuation]) )\n",
        "test[\"num_punctuations\"] =test['title'].apply(lambda x: len([c for c in str(x) if c in string.punctuation]) )\n",
        "\n",
        "train[\"num_words_upper\"] = train[\"title\"].apply(lambda x: len([w for w in str(x).split() if w.isupper()]))\n",
        "test[\"num_words_upper\"] = test[\"title\"].apply(lambda x: len([w for w in str(x).split() if w.isupper()]))\n",
        "\n",
        "train[\"num_words_title\"] = train[\"title\"].apply(lambda x: len([w for w in str(x).split() if w.istitle()]))\n",
        "test[\"num_words_title\"] = test[\"title\"].apply(lambda x: len([w for w in str(x).split() if w.istitle()]))\n",
        "\n",
        "train[\"mean_word_len\"] = train[\"title\"].apply(lambda x: np.mean([len(w) for w in str(x).split()]))\n",
        "test[\"mean_word_len\"] = test[\"title\"].apply(lambda x: np.mean([len(w) for w in str(x).split()]))\n",
        "\n"
      ],
      "execution_count": 0,
      "outputs": []
    },
    {
      "metadata": {
        "id": "C2zYwZjOIAYc",
        "colab_type": "text"
      },
      "cell_type": "markdown",
      "source": [
        "**Preparing to build a classifier on the meta features to see if they help in predicting**"
      ]
    },
    {
      "metadata": {
        "id": "V7KOPxlAHnxv",
        "colab_type": "code",
        "colab": {}
      },
      "cell_type": "code",
      "source": [
        "train_y = train['link_flair_text'].map(label_to_id)\n",
        "test_y = test['link_flair_text'].map(label_to_id)\n",
        "\n",
        "train[\"num_words\"] = train[\"title\"].apply(lambda x: len(str(x).split()))\n",
        "test[\"num_words\"] = test[\"title\"].apply(lambda x: len(str(x).split()))\n",
        "train[\"mean_word_len\"] = train[\"title\"].apply(lambda x: np.mean([len(w) for w in str(x).split()]))\n",
        "test[\"mean_word_len\"] = test[\"title\"].apply(lambda x: np.mean([len(w) for w in str(x).split()]))\n",
        "\n",
        "cols_to_drop = ['comments' ,'title']\n",
        "train_X = train.drop(cols_to_drop+['link_flair_text'], axis=1)\n",
        "test_X = test.drop(cols_to_drop+['link_flair_text'], axis=1)"
      ],
      "execution_count": 0,
      "outputs": []
    },
    {
      "metadata": {
        "id": "KqZQ8xfDIjWv",
        "colab_type": "text"
      },
      "cell_type": "markdown",
      "source": [
        "**Lets train a simple XGBoost with only the meta features**"
      ]
    },
    {
      "metadata": {
        "id": "SnDXAEGI_u2y",
        "colab_type": "code",
        "colab": {}
      },
      "cell_type": "code",
      "source": [
        "def runXGB(train_X, train_y, test_X, test_y=None, feature_names=None, seed_val=2017, num_rounds=500):\n",
        "    param = {}\n",
        "    param['objective'] = 'multi:softmax'\n",
        "    param['eta'] = 0.12\n",
        "    param['max_depth'] = 5\n",
        "    param['silent'] = 1\n",
        "    param['num_class'] = 11\n",
        "    param['eval_metric'] = 'mlogloss'\n",
        "    param['min_child_weight'] = 1\n",
        "    param['subsample'] = 0.5\n",
        "    param['colsample_bytree'] = 0.7\n",
        "    param['seed'] = seed_val\n",
        "    num_rounds = num_rounds\n",
        "\n",
        "    plst = list(param.items())\n",
        "    xgtrain = xgb.DMatrix(train_X, label=train_y)\n",
        "\n",
        "    if test_y is not None:\n",
        "        xgtest = xgb.DMatrix(test_X, label=test_y)\n",
        "        watchlist = [ (xgtrain,'train'), (xgtest, 'test') ]\n",
        "        model = xgb.train(plst, xgtrain, num_rounds, watchlist, early_stopping_rounds=20)\n",
        "    else:\n",
        "        xgtest = xgb.DMatrix(test_X)\n",
        "        model = xgb.train(plst, xgtrain, num_rounds)\n",
        "\n",
        "    pred_test_y = model.predict(xgtest)\n",
        "    return model"
      ],
      "execution_count": 0,
      "outputs": []
    },
    {
      "metadata": {
        "id": "yGuXUIa2LXrj",
        "colab_type": "text"
      },
      "cell_type": "markdown",
      "source": [
        "**Run the XGBoost model**"
      ]
    },
    {
      "metadata": {
        "id": "hvNRLcDE_u6E",
        "colab_type": "code",
        "outputId": "4c49306c-ce90-41bd-c8f1-23c020a06594",
        "colab": {
          "base_uri": "https://localhost:8080/",
          "height": 2244
        }
      },
      "cell_type": "code",
      "source": [
        "import pickle\n",
        "\n",
        "model = runXGB(train_X, train_y, test_X, test_y)\n",
        "name = \"meta.pickle\" + str(0) + \".dat\"\n",
        "pickle.dump(model, open(name, \"wb\"))"
      ],
      "execution_count": 0,
      "outputs": [
        {
          "output_type": "stream",
          "text": [
            "[0]\ttrain-mlogloss:2.34311\ttest-mlogloss:2.34465\n",
            "Multiple eval metrics have been passed: 'test-mlogloss' will be used for early stopping.\n",
            "\n",
            "Will train until test-mlogloss hasn't improved in 20 rounds.\n",
            "[1]\ttrain-mlogloss:2.30251\ttest-mlogloss:2.30598\n",
            "[2]\ttrain-mlogloss:2.2676\ttest-mlogloss:2.27166\n",
            "[3]\ttrain-mlogloss:2.2377\ttest-mlogloss:2.23433\n",
            "[4]\ttrain-mlogloss:2.20959\ttest-mlogloss:2.19981\n",
            "[5]\ttrain-mlogloss:2.18532\ttest-mlogloss:2.1709\n",
            "[6]\ttrain-mlogloss:2.16255\ttest-mlogloss:2.14441\n",
            "[7]\ttrain-mlogloss:2.14236\ttest-mlogloss:2.12139\n",
            "[8]\ttrain-mlogloss:2.12472\ttest-mlogloss:2.10423\n",
            "[9]\ttrain-mlogloss:2.10848\ttest-mlogloss:2.08745\n",
            "[10]\ttrain-mlogloss:2.09474\ttest-mlogloss:2.07595\n",
            "[11]\ttrain-mlogloss:2.08077\ttest-mlogloss:2.0612\n",
            "[12]\ttrain-mlogloss:2.067\ttest-mlogloss:2.05002\n",
            "[13]\ttrain-mlogloss:2.05461\ttest-mlogloss:2.03927\n",
            "[14]\ttrain-mlogloss:2.04264\ttest-mlogloss:2.02591\n",
            "[15]\ttrain-mlogloss:2.03132\ttest-mlogloss:2.01612\n",
            "[16]\ttrain-mlogloss:2.02122\ttest-mlogloss:2.00902\n",
            "[17]\ttrain-mlogloss:2.01143\ttest-mlogloss:2.00014\n",
            "[18]\ttrain-mlogloss:2.00247\ttest-mlogloss:1.99233\n",
            "[19]\ttrain-mlogloss:1.99406\ttest-mlogloss:1.9863\n",
            "[20]\ttrain-mlogloss:1.9858\ttest-mlogloss:1.97898\n",
            "[21]\ttrain-mlogloss:1.97781\ttest-mlogloss:1.9718\n",
            "[22]\ttrain-mlogloss:1.97068\ttest-mlogloss:1.96679\n",
            "[23]\ttrain-mlogloss:1.96388\ttest-mlogloss:1.96329\n",
            "[24]\ttrain-mlogloss:1.95615\ttest-mlogloss:1.95854\n",
            "[25]\ttrain-mlogloss:1.94941\ttest-mlogloss:1.95481\n",
            "[26]\ttrain-mlogloss:1.94372\ttest-mlogloss:1.95241\n",
            "[27]\ttrain-mlogloss:1.93761\ttest-mlogloss:1.94942\n",
            "[28]\ttrain-mlogloss:1.93101\ttest-mlogloss:1.94434\n",
            "[29]\ttrain-mlogloss:1.92585\ttest-mlogloss:1.9409\n",
            "[30]\ttrain-mlogloss:1.91992\ttest-mlogloss:1.93579\n",
            "[31]\ttrain-mlogloss:1.91485\ttest-mlogloss:1.93165\n",
            "[32]\ttrain-mlogloss:1.90886\ttest-mlogloss:1.92718\n",
            "[33]\ttrain-mlogloss:1.90389\ttest-mlogloss:1.92508\n",
            "[34]\ttrain-mlogloss:1.89841\ttest-mlogloss:1.9219\n",
            "[35]\ttrain-mlogloss:1.8932\ttest-mlogloss:1.91974\n",
            "[36]\ttrain-mlogloss:1.88803\ttest-mlogloss:1.91798\n",
            "[37]\ttrain-mlogloss:1.8839\ttest-mlogloss:1.91672\n",
            "[38]\ttrain-mlogloss:1.8793\ttest-mlogloss:1.9142\n",
            "[39]\ttrain-mlogloss:1.87502\ttest-mlogloss:1.91243\n",
            "[40]\ttrain-mlogloss:1.87071\ttest-mlogloss:1.91106\n",
            "[41]\ttrain-mlogloss:1.86661\ttest-mlogloss:1.90881\n",
            "[42]\ttrain-mlogloss:1.86215\ttest-mlogloss:1.90647\n",
            "[43]\ttrain-mlogloss:1.85855\ttest-mlogloss:1.90468\n",
            "[44]\ttrain-mlogloss:1.85461\ttest-mlogloss:1.90359\n",
            "[45]\ttrain-mlogloss:1.85052\ttest-mlogloss:1.90197\n",
            "[46]\ttrain-mlogloss:1.84665\ttest-mlogloss:1.899\n",
            "[47]\ttrain-mlogloss:1.84318\ttest-mlogloss:1.89873\n",
            "[48]\ttrain-mlogloss:1.83958\ttest-mlogloss:1.89693\n",
            "[49]\ttrain-mlogloss:1.83609\ttest-mlogloss:1.89534\n",
            "[50]\ttrain-mlogloss:1.8335\ttest-mlogloss:1.89482\n",
            "[51]\ttrain-mlogloss:1.82999\ttest-mlogloss:1.89396\n",
            "[52]\ttrain-mlogloss:1.82637\ttest-mlogloss:1.89278\n",
            "[53]\ttrain-mlogloss:1.82276\ttest-mlogloss:1.89116\n",
            "[54]\ttrain-mlogloss:1.81892\ttest-mlogloss:1.89011\n",
            "[55]\ttrain-mlogloss:1.81516\ttest-mlogloss:1.88895\n",
            "[56]\ttrain-mlogloss:1.81189\ttest-mlogloss:1.88869\n",
            "[57]\ttrain-mlogloss:1.80845\ttest-mlogloss:1.88648\n",
            "[58]\ttrain-mlogloss:1.80544\ttest-mlogloss:1.88467\n",
            "[59]\ttrain-mlogloss:1.80188\ttest-mlogloss:1.88348\n",
            "[60]\ttrain-mlogloss:1.79828\ttest-mlogloss:1.88114\n",
            "[61]\ttrain-mlogloss:1.79514\ttest-mlogloss:1.88043\n",
            "[62]\ttrain-mlogloss:1.79215\ttest-mlogloss:1.87903\n",
            "[63]\ttrain-mlogloss:1.78958\ttest-mlogloss:1.87879\n",
            "[64]\ttrain-mlogloss:1.7869\ttest-mlogloss:1.87831\n",
            "[65]\ttrain-mlogloss:1.78408\ttest-mlogloss:1.87738\n",
            "[66]\ttrain-mlogloss:1.78145\ttest-mlogloss:1.8767\n",
            "[67]\ttrain-mlogloss:1.77896\ttest-mlogloss:1.87518\n",
            "[68]\ttrain-mlogloss:1.77596\ttest-mlogloss:1.87417\n",
            "[69]\ttrain-mlogloss:1.77326\ttest-mlogloss:1.87349\n",
            "[70]\ttrain-mlogloss:1.7702\ttest-mlogloss:1.87286\n",
            "[71]\ttrain-mlogloss:1.76792\ttest-mlogloss:1.87175\n",
            "[72]\ttrain-mlogloss:1.76511\ttest-mlogloss:1.87071\n",
            "[73]\ttrain-mlogloss:1.76242\ttest-mlogloss:1.8704\n",
            "[74]\ttrain-mlogloss:1.76024\ttest-mlogloss:1.86967\n",
            "[75]\ttrain-mlogloss:1.75757\ttest-mlogloss:1.86925\n",
            "[76]\ttrain-mlogloss:1.75499\ttest-mlogloss:1.86962\n",
            "[77]\ttrain-mlogloss:1.75222\ttest-mlogloss:1.86857\n",
            "[78]\ttrain-mlogloss:1.74923\ttest-mlogloss:1.86854\n",
            "[79]\ttrain-mlogloss:1.74649\ttest-mlogloss:1.86891\n",
            "[80]\ttrain-mlogloss:1.74369\ttest-mlogloss:1.86831\n",
            "[81]\ttrain-mlogloss:1.74116\ttest-mlogloss:1.86839\n",
            "[82]\ttrain-mlogloss:1.73861\ttest-mlogloss:1.86823\n",
            "[83]\ttrain-mlogloss:1.73559\ttest-mlogloss:1.86817\n",
            "[84]\ttrain-mlogloss:1.73276\ttest-mlogloss:1.86787\n",
            "[85]\ttrain-mlogloss:1.73071\ttest-mlogloss:1.86746\n",
            "[86]\ttrain-mlogloss:1.72863\ttest-mlogloss:1.86709\n",
            "[87]\ttrain-mlogloss:1.72622\ttest-mlogloss:1.86664\n",
            "[88]\ttrain-mlogloss:1.72393\ttest-mlogloss:1.86594\n",
            "[89]\ttrain-mlogloss:1.72132\ttest-mlogloss:1.86576\n",
            "[90]\ttrain-mlogloss:1.71901\ttest-mlogloss:1.86634\n",
            "[91]\ttrain-mlogloss:1.71651\ttest-mlogloss:1.8658\n",
            "[92]\ttrain-mlogloss:1.71391\ttest-mlogloss:1.86579\n",
            "[93]\ttrain-mlogloss:1.7116\ttest-mlogloss:1.86542\n",
            "[94]\ttrain-mlogloss:1.70959\ttest-mlogloss:1.86469\n",
            "[95]\ttrain-mlogloss:1.70734\ttest-mlogloss:1.86459\n",
            "[96]\ttrain-mlogloss:1.70484\ttest-mlogloss:1.86488\n",
            "[97]\ttrain-mlogloss:1.70264\ttest-mlogloss:1.86451\n",
            "[98]\ttrain-mlogloss:1.70011\ttest-mlogloss:1.86453\n",
            "[99]\ttrain-mlogloss:1.6977\ttest-mlogloss:1.8649\n",
            "[100]\ttrain-mlogloss:1.69547\ttest-mlogloss:1.8652\n",
            "[101]\ttrain-mlogloss:1.69327\ttest-mlogloss:1.86562\n",
            "[102]\ttrain-mlogloss:1.69083\ttest-mlogloss:1.86491\n",
            "[103]\ttrain-mlogloss:1.68901\ttest-mlogloss:1.86416\n",
            "[104]\ttrain-mlogloss:1.68706\ttest-mlogloss:1.86399\n",
            "[105]\ttrain-mlogloss:1.68503\ttest-mlogloss:1.86433\n",
            "[106]\ttrain-mlogloss:1.6828\ttest-mlogloss:1.86459\n",
            "[107]\ttrain-mlogloss:1.68064\ttest-mlogloss:1.86465\n",
            "[108]\ttrain-mlogloss:1.67855\ttest-mlogloss:1.86474\n",
            "[109]\ttrain-mlogloss:1.67627\ttest-mlogloss:1.86478\n",
            "[110]\ttrain-mlogloss:1.67434\ttest-mlogloss:1.8653\n",
            "[111]\ttrain-mlogloss:1.67198\ttest-mlogloss:1.86551\n",
            "[112]\ttrain-mlogloss:1.66996\ttest-mlogloss:1.86486\n",
            "[113]\ttrain-mlogloss:1.66814\ttest-mlogloss:1.86507\n",
            "[114]\ttrain-mlogloss:1.66558\ttest-mlogloss:1.86484\n",
            "[115]\ttrain-mlogloss:1.66349\ttest-mlogloss:1.86465\n",
            "[116]\ttrain-mlogloss:1.6616\ttest-mlogloss:1.86498\n",
            "[117]\ttrain-mlogloss:1.65943\ttest-mlogloss:1.86484\n",
            "[118]\ttrain-mlogloss:1.65745\ttest-mlogloss:1.86499\n",
            "[119]\ttrain-mlogloss:1.65518\ttest-mlogloss:1.86495\n",
            "[120]\ttrain-mlogloss:1.65312\ttest-mlogloss:1.86438\n",
            "[121]\ttrain-mlogloss:1.65108\ttest-mlogloss:1.86426\n",
            "[122]\ttrain-mlogloss:1.64896\ttest-mlogloss:1.86437\n",
            "[123]\ttrain-mlogloss:1.64699\ttest-mlogloss:1.86451\n",
            "[124]\ttrain-mlogloss:1.64469\ttest-mlogloss:1.86446\n",
            "Stopping. Best iteration:\n",
            "[104]\ttrain-mlogloss:1.68706\ttest-mlogloss:1.86399\n",
            "\n"
          ],
          "name": "stdout"
        }
      ]
    },
    {
      "metadata": {
        "id": "I7IU5lTaIxKb",
        "colab_type": "text"
      },
      "cell_type": "markdown",
      "source": [
        "**Lets observe which of the features are important**"
      ]
    },
    {
      "metadata": {
        "id": "7aZkFfMzI2GI",
        "colab_type": "code",
        "outputId": "0cefe90f-5bfc-434a-f950-c9ed072e704a",
        "colab": {
          "base_uri": "https://localhost:8080/",
          "height": 729
        }
      },
      "cell_type": "code",
      "source": [
        "fig, ax = plt.subplots(figsize=(12,12))\n",
        "xgb.plot_importance(model, max_num_features=50, height=0.8, ax=ax)\n",
        "plt.show()"
      ],
      "execution_count": 0,
      "outputs": [
        {
          "output_type": "display_data",
          "data": {
            "image/png": "[encoded data removed]",
            "text/plain": [
              "<Figure size 864x864 with 1 Axes>"
            ]
          },
          "metadata": {
            "tags": []
          }
        }
      ]
    },
    {
      "metadata": {
        "id": "QY8Mo1vSLorg",
        "colab_type": "text"
      },
      "cell_type": "markdown",
      "source": [
        "**Perform predictions on test set and evaluate accuracy**"
      ]
    },
    {
      "metadata": {
        "id": "H8_BBUAa_uxe",
        "colab_type": "code",
        "colab": {}
      },
      "cell_type": "code",
      "source": [
        "def accuracy(out, labels):\n",
        "  count = 0\n",
        "  for i,j in zip(out,labels):\n",
        "    if i == j:\n",
        "      count += 1\n",
        "  return (count/len(labels)) * 100"
      ],
      "execution_count": 0,
      "outputs": []
    },
    {
      "metadata": {
        "id": "TkujD7IJCbck",
        "colab_type": "text"
      },
      "cell_type": "markdown",
      "source": [
        "### Run evaluation on dev set"
      ]
    },
    {
      "metadata": {
        "id": "zGtVRf8dJUsX",
        "colab_type": "code",
        "outputId": "570393a4-67ba-43d2-d405-4c4a7e2c2c30",
        "colab": {
          "base_uri": "https://localhost:8080/",
          "height": 34
        }
      },
      "cell_type": "code",
      "source": [
        "preds = []\n",
        "preds[:] = model.predict(xgb.DMatrix(test_X))\n",
        "new_preds = []\n",
        "for i in preds:\n",
        "  new_preds.append(int(i))\n",
        "\n",
        "print ('Accuracy on test set using meta features', accuracy(new_preds, test_y), '%')"
      ],
      "execution_count": 0,
      "outputs": [
        {
          "output_type": "stream",
          "text": [
            "Accuracy on test set using meta features 32.58127122755944 %\n"
          ],
          "name": "stdout"
        }
      ]
    },
    {
      "metadata": {
        "id": "gijTuH8VMvMB",
        "colab_type": "text"
      },
      "cell_type": "markdown",
      "source": [
        "**Displaying the confusion matrix**"
      ]
    },
    {
      "metadata": {
        "id": "9H8Zau0jOCPW",
        "colab_type": "code",
        "colab": {}
      },
      "cell_type": "code",
      "source": [
        "nb_classes = 11\n",
        "\n",
        "confusion_matrix = np.zeros((nb_classes, nb_classes))\n",
        "for t, p in zip(test_y, new_preds):\n",
        "  confusion_matrix[t, p] += 1\n",
        "      \n",
        "confusion_matrix = np.flip(confusion_matrix, 0)"
      ],
      "execution_count": 0,
      "outputs": []
    },
    {
      "metadata": {
        "id": "hhg_HFCsRDAV",
        "colab_type": "code",
        "outputId": "5f9882b9-4e2a-4c37-fbdf-d2f760570a04",
        "colab": {
          "base_uri": "https://localhost:8080/",
          "height": 294
        }
      },
      "cell_type": "code",
      "source": [
        "    \n",
        "l = [\"0\", \"1\", \"2\", \"3\", \"4\", \"5\", \"6\", \"7\", \"8\", \"9\", \"10\"]\n",
        "\n",
        "ax= plt.subplot()\n",
        "sns.heatmap(confusion_matrix, annot=True, ax = ax, ); #annot=True to annotate cells\n",
        "\n",
        "# labels, title and ticks\n",
        "ax.set_xlabel('Predicted labels');ax.set_ylabel('True labels'); \n",
        "ax.set_title('Confusion Matrix'); \n",
        "ax.xaxis.set_ticklabels(l); ax.yaxis.set_ticklabels(l);"
      ],
      "execution_count": 0,
      "outputs": [
        {
          "output_type": "display_data",
          "data": {
            "image/png": "[encoded data removed]",
            "text/plain": [
              "<Figure size 432x288 with 2 Axes>"
            ]
          },
          "metadata": {
            "tags": []
          }
        }
      ]
    },
    {
      "metadata": {
        "id": "ynN9ZGjWWHXy",
        "colab_type": "text"
      },
      "cell_type": "markdown",
      "source": [
        "**Building a TFIDF vectorizer on title feature **"
      ]
    },
    {
      "metadata": {
        "id": "mGbytgrKM7R2",
        "colab_type": "code",
        "colab": {}
      },
      "cell_type": "code",
      "source": [
        "tfidf_vec = TfidfVectorizer(stop_words='english', ngram_range=(1,3))\n",
        "full_tfidf = tfidf_vec.fit_transform(train['title'].values.tolist() + test['title'].values.tolist())\n",
        "train_tfidf = tfidf_vec.transform(train['title'].values.tolist())\n",
        "test_tfidf = tfidf_vec.transform(test['title'].values.tolist())"
      ],
      "execution_count": 0,
      "outputs": []
    },
    {
      "metadata": {
        "id": "jDqiUWGfbF2T",
        "colab_type": "text"
      },
      "cell_type": "markdown",
      "source": [
        "**Helper Function to train using different algorithms**"
      ]
    },
    {
      "metadata": {
        "id": "C0-_RUsiVRhR",
        "colab_type": "code",
        "colab": {}
      },
      "cell_type": "code",
      "source": [
        "from sklearn.metrics import accuracy_score\n",
        "import time\n",
        "\n",
        "def train_predict(learner, X_train, y_train, X_test, y_test): \n",
        "    \n",
        "    results = {}\n",
        "    \n",
        "    start = time.time() \n",
        "    learner = learner.fit(X_train, y_train)\n",
        "    end = time.time() \n",
        "    \n",
        "    results['train_time'] = end - start\n",
        "    \n",
        "    start = time.time() \n",
        "    predictions_test = learner.predict(X_test)\n",
        "    predictions_train = learner.predict(X_train[:300])\n",
        "    end = time.time()\n",
        "    results['pred_time'] = end - start\n",
        "            \n",
        "    results['acc_train'] = accuracy_score(y_train[:300], predictions_train)\n",
        "        \n",
        "    results['acc_test'] = accuracy_score(y_test, predictions_test)\n",
        "       \n",
        "    print (\"{} trained.\".format(learner.__class__.__name__))\n",
        "        \n",
        "    return results"
      ],
      "execution_count": 0,
      "outputs": []
    },
    {
      "metadata": {
        "id": "YdwdVHokbTJH",
        "colab_type": "text"
      },
      "cell_type": "markdown",
      "source": [
        "**Running 3 different baseline on test set**"
      ]
    },
    {
      "metadata": {
        "id": "y-yncmeHVsHq",
        "colab_type": "code",
        "outputId": "836bbcae-aab4-4d4d-b3dc-46466f8fd4ac",
        "colab": {
          "base_uri": "https://localhost:8080/",
          "height": 190
        }
      },
      "cell_type": "code",
      "source": [
        "from sklearn.neighbors import KNeighborsClassifier\n",
        "from sklearn import tree\n",
        "from sklearn.ensemble import RandomForestClassifier\n",
        "from sklearn.linear_model import SGDClassifier\n",
        "from sklearn.linear_model import LogisticRegression\n",
        "\n",
        "clf_A = MultinomialNB()\n",
        "clf_B = SGDClassifier(loss='hinge', penalty='l2',alpha=1e-3, random_state=42, max_iter=5, tol=None)\n",
        "clf_C = LogisticRegression(n_jobs=1, C=1e5)\n",
        "\n",
        "results = {}\n",
        "for clf in [clf_A, clf_B, clf_C]:\n",
        "    clf_name = clf.__class__.__name__\n",
        "    results[clf_name] = {}\n",
        "    results[clf_name][i] = train_predict(clf, train_tfidf, train_y, test_tfidf, test_y)"
      ],
      "execution_count": 0,
      "outputs": [
        {
          "output_type": "stream",
          "text": [
            "MultinomialNB trained.\n"
          ],
          "name": "stdout"
        },
        {
          "output_type": "stream",
          "text": [
            "/usr/local/lib/python3.6/dist-packages/sklearn/linear_model/stochastic_gradient.py:183: FutureWarning: max_iter and tol parameters have been added in SGDClassifier in 0.19. If max_iter is set but tol is left unset, the default value for tol in 0.19 and 0.20 will be None (which is equivalent to -infinity, so it has no effect) but will change in 0.21 to 1e-3. Specify tol to silence this warning.\n",
            "  FutureWarning)\n"
          ],
          "name": "stderr"
        },
        {
          "output_type": "stream",
          "text": [
            "SGDClassifier trained.\n"
          ],
          "name": "stdout"
        },
        {
          "output_type": "stream",
          "text": [
            "/usr/local/lib/python3.6/dist-packages/sklearn/linear_model/logistic.py:433: FutureWarning: Default solver will be changed to 'lbfgs' in 0.22. Specify a solver to silence this warning.\n",
            "  FutureWarning)\n",
            "/usr/local/lib/python3.6/dist-packages/sklearn/linear_model/logistic.py:460: FutureWarning: Default multi_class will be changed to 'auto' in 0.22. Specify the multi_class option to silence this warning.\n",
            "  \"this warning.\", FutureWarning)\n"
          ],
          "name": "stderr"
        },
        {
          "output_type": "stream",
          "text": [
            "LogisticRegression trained.\n"
          ],
          "name": "stdout"
        }
      ]
    },
    {
      "metadata": {
        "id": "vI97DM7tbXs7",
        "colab_type": "text"
      },
      "cell_type": "markdown",
      "source": [
        "**Results for the baseline**"
      ]
    },
    {
      "metadata": {
        "id": "AKc5Jsb2ZuWU",
        "colab_type": "code",
        "outputId": "319beb38-7254-4da3-d272-01befbbc895e",
        "colab": {
          "base_uri": "https://localhost:8080/",
          "height": 170
        }
      },
      "cell_type": "code",
      "source": [
        "for i, result in results.items():\n",
        "  for j, res in result.items():\n",
        "    print (i, ' Results')\n",
        "    print ('Test Accuracy', res['acc_test'], 'Test F1 Score', res['f_test'], '\\n')"
      ],
      "execution_count": 0,
      "outputs": [
        {
          "output_type": "stream",
          "text": [
            "MultinomialNB  Results\n",
            "Test Accuracy 0.5477923338185346 Test F1 Score 0.5477923338185346 \n",
            "\n",
            "SGDClassifier  Results\n",
            "Test Accuracy 0.5630761766132946 Test F1 Score 0.5630761766132946 \n",
            "\n",
            "LogisticRegression  Results\n",
            "Test Accuracy 0.5545851528384279 Test F1 Score 0.5545851528384279 \n",
            "\n"
          ],
          "name": "stdout"
        }
      ]
    },
    {
      "metadata": {
        "id": "44Hqz92paLrd",
        "colab_type": "code",
        "colab": {}
      },
      "cell_type": "code",
      "source": [
        ""
      ],
      "execution_count": 0,
      "outputs": []
    }
  ]
}